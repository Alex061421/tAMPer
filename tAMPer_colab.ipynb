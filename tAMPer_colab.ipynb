{
  "nbformat": 4,
  "nbformat_minor": 0,
  "metadata": {
    "colab": {
      "provenance": [],
      "authorship_tag": "ABX9TyNtZmjlCxVtLscAtA2DcvCz",
      "include_colab_link": true
    },
    "kernelspec": {
      "name": "python3",
      "display_name": "Python 3"
    },
    "language_info": {
      "name": "python"
    }
  },
  "cells": [
    {
      "cell_type": "markdown",
      "metadata": {
        "id": "view-in-github",
        "colab_type": "text"
      },
      "source": [
        "<a href=\"https://colab.research.google.com/github/bcgsc/tAMPer/blob/master/tAMPer_colab.ipynb\" target=\"_parent\"><img src=\"https://colab.research.google.com/assets/colab-badge.svg\" alt=\"Open In Colab\"/></a>"
      ]
    },
    {
      "cell_type": "markdown",
      "source": [
        "# **tAMPer**: structure-aware machine learning model for toxicity prediction of anti-microbial peptides (AMPs)\n",
        "\n",
        "Easy to use toxicity prediction tool of peptides and proteins. For details, refer to our manuscript.\n",
        "\n",
        "**Usage**\n",
        "\n",
        "`input_dir` directory with only fasta files or MSAs stored in Google Drive. MSAs need to be A3M formatted and have an `.a3m` extention. For MSAs MMseqs2 will not be called.\n",
        "\n",
        "`pdbs_dir` directory with only fasta files or MSAs stored in Google Drive. MSAs need to be A3M formatted and have an `.a3m` extention. For MSAs MMseqs2 will not be called.\n",
        "\n",
        "`result_dir` results will be written to the result directory in Google Drive.\n",
        "\n",
        "---\n",
        "\n",
        "### News\n",
        "- <b><font color='green'>2023/08/14: Hello World!</font></b>"
      ],
      "metadata": {
        "id": "vCtxpJYGk__4"
      }
    }
  ]
}